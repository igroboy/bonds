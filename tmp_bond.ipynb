{
 "cells": [
  {
   "cell_type": "code",
   "execution_count": 514,
   "metadata": {
    "collapsed": true
   },
   "outputs": [],
   "source": [
    "\n",
    "import pandas as pd\n",
    "import numpy as np\n",
    "import datetime as dt\n",
    "import pickle\n",
    "import quandl\n",
    "import datetime as dt\n",
    "#import Quantlib\n",
    "import mibian as mb\n",
    "import os\n",
    "from numba import jit\n",
    "import zipfile\n",
    "\n",
    "import seaborn\n",
    "import calendar\n",
    "from sklearn import preprocessing\n",
    "%matplotlib inline\n",
    "import xlrd as xlrd\n",
    "#from cvxopt import matrix, solvers\n",
    "\n",
    "us_r = pd.read_csv(r'C:/Users/user/Desktop/US HY/iss_r.csv')\n",
    "us_s = pd.read_csv(r'C:/Users/user/Desktop/US HY/iss_s.csv')\n",
    "us_w = pd.read_csv(r'C:/Users/user/Desktop/US HY/iss_w.csv')\n",
    "bid=pd.read_csv(r'C:/Users/user/Desktop/US HY/bid.csv')\n",
    "ask=pd.read_csv(r'C:/Users/user/Desktop/US HY/ask.csv')\n",
    "oas=pd.read_csv(r'C:/Users/user/Desktop/US HY/oas.csv')\n",
    "btr=pd.read_csv(r'C:/Users/user/Desktop/US HY/btr.csv')\n",
    "volume = pd.read_csv(r'C:/Users/user/Desktop/US HY/volume.csv')\n",
    "\n",
    "\n",
    "roa= pd.read_csv(r'C:/Users/user/Desktop/US HY/roa.csv')\n",
    "binf=pd.read_csv(r'C:/Users/user/Desktop/US HY/binf.csv')\n",
    "\n",
    "us_r.index = [dt.datetime.strptime(x,'%Y-%m-%d') for x in us_r['Unnamed: 0']]\n",
    "us_s.index = [dt.datetime.strptime(x,'%Y-%m-%d') for x in us_s['Unnamed: 0']]\n",
    "us_w.index = [dt.datetime.strptime(x,'%Y-%m-%d') for x in us_w['Unnamed: 0']]\n",
    "volume.index = [dt.datetime.strptime(x,'%Y-%m-%d') for x in volume['Unnamed: 0']]\n",
    "roa.index = [dt.datetime.strptime(x,'%m/%d/%Y') for x in roa['Unnamed: 0']]\n",
    "bid.index = [dt.datetime.strptime(x,'%Y-%m-%d') for x in bid['Unnamed: 0']]\n",
    "ask.index = [dt.datetime.strptime(x,'%Y-%m-%d') for x in ask['Unnamed: 0']]\n",
    "oas.index = [dt.datetime.strptime(x,'%Y-%m-%d') for x in oas['Unnamed: 0']]\n",
    "btr.index = [dt.datetime.strptime(x,'%Y-%m-%d') for x in btr['Unnamed: 0']]\n",
    "\n",
    "\n",
    "del us_r['Unnamed: 0']\n",
    "del us_s['Unnamed: 0']\n",
    "del us_w['Unnamed: 0']\n",
    "del roa['Unnamed: 0']\n",
    "del volume['Unnamed: 0']\n",
    "del bid['Unnamed: 0']\n",
    "del ask['Unnamed: 0']\n",
    "del oas['Unnamed: 0']\n",
    "del btr['Unnamed: 0']\n",
    "\n",
    "\n",
    "\n",
    "volume=volume.fillna(0)\n"
   ]
  },
  {
   "cell_type": "code",
   "execution_count": 509,
   "metadata": {
    "collapsed": true
   },
   "outputs": [],
   "source": [
    "\n",
    "\n",
    "bond_stock_ticker=binf[[\"Eqty.Ticker\",'iss']].drop_duplicates(['iss'], keep='last')\n",
    "reb_date=(np.append(0,np.diff(us_r.index.month))!=0) & us_r.index.month.isin([4,7,1])\n",
    "us_roa=pd.DataFrame(np.nan, index=roa.index, columns=list(us_s))\n",
    "roa_temp=bond_stock_ticker.index[bond_stock_ticker['Eqty.Ticker'].isin(list(roa))]\n",
    "roa_ticks=bond_stock_ticker.loc[roa_temp,'Eqty.Ticker'].tolist()\n",
    "us_roa[bond_stock_ticker.loc[roa_temp,'iss'].tolist()]=roa[roa_ticks]\n",
    "vol2w=volume.rolling(window=10,center=False).sum()\n",
    "cond=(np.isnan(bid)==False)& (np.isnan(ask)==False) & (np.isnan(oas)==False) & (vol2w>0)\n",
    "\n",
    "\n"
   ]
  },
  {
   "cell_type": "code",
   "execution_count": 542,
   "metadata": {
    "collapsed": false
   },
   "outputs": [
    {
     "data": {
      "text/plain": [
       "<matplotlib.axes._subplots.AxesSubplot at 0x1cb81847898>"
      ]
     },
     "execution_count": 542,
     "metadata": {},
     "output_type": "execute_result"
    },
    {
     "data": {
      "image/png": "[encoded data removed]",
      "text/plain": [
       "<matplotlib.figure.Figure at 0x1cb817d2f28>"
      ]
     },
     "metadata": {},
     "output_type": "display_data"
    }
   ],
   "source": [
    "dates=us_r.index\n",
    "us_pos = us_r.copy() * np.nan\n",
    "us_bond_pos=bid.copy() * np.nan\n",
    "day_i = us_r.index[0]\n",
    "for ii,day_i in enumerate(dates[:-3]):\n",
    "    if reb_date[ii+1]:\n",
    "        us_pos.loc[dates[ii+1],:]=0\n",
    "        us_bond_pos.loc[dates[ii+1],:]=0\n",
    "        order_roa=us_roa.loc[(us_roa.index<=dates[ii+1]) & ((dates[ii+1]-us_roa.index).days<6)].nlargest(1,list(us_roa)).T.iloc[:,0].nsmallest(20)     \n",
    "        for tick in order_roa.index.tolist():\n",
    "            if any(cond.loc[day_i,binf.loc[binf[\"iss\"]==tick,\"is\"]]):\n",
    "              #  print(\"wow\")\n",
    "                bond_to_buy=vol2w.loc[day_i,binf.loc[binf[\"iss\"]==tick,\"is\"]].nlargest(1).index\n",
    "                us_bond_pos.loc[dates[ii+1],bond_to_buy]=1\n",
    "      \n",
    "        us_pos.loc[dates[ii+1],order_roa.index.tolist()] = 1\n",
    "        \n",
    "us_pos = us_pos.ffill()\n",
    "us_bond_pos = us_bond_pos.ffill()\n",
    "\n",
    "\n",
    "ba=abs(us_bond_pos.diff())*(bid/ask-1)\n",
    "(us_bond_pos * (btr+ba)).mean(axis=1).add(1).cumprod().plot()#(figsize=[12,9])\n"
   ]
  }
 ],
 "metadata": {
  "kernelspec": {
   "display_name": "Python 2",
   "language": "python",
   "name": "python2"
  },
  "language_info": {
   "codemirror_mode": {
    "name": "ipython",
    "version": 2
   },
   "file_extension": ".py",
   "mimetype": "text/x-python",
   "name": "python",
   "nbconvert_exporter": "python",
   "pygments_lexer": "ipython2",
   "version": "2.7.13"
  }
 },
 "nbformat": 4,
 "nbformat_minor": 2
}
